{
 "cells": [
  {
   "cell_type": "markdown",
   "id": "157621e2",
   "metadata": {},
   "source": [
    "# Problem 2"
   ]
  },
  {
   "cell_type": "code",
   "execution_count": null,
   "id": "88d69d9f-c18a-4a2e-b667-719bb179a9d1",
   "metadata": {
    "deletable": false,
    "editable": false,
    "nbgrader": {
     "cell_type": "code",
     "checksum": "6524516414dd549eaa4f70ff57580caf",
     "grade": false,
     "grade_id": "imports",
     "locked": true,
     "schema_version": 3,
     "solution": false,
     "task": false
    }
   },
   "outputs": [],
   "source": [
    "import pyfar as pf\n",
    "import numpy as np"
   ]
  },
  {
   "cell_type": "code",
   "execution_count": null,
   "id": "3325586f-7958-4564-994b-27f11696fffd",
   "metadata": {
    "deletable": false,
    "editable": false,
    "nbgrader": {
     "cell_type": "code",
     "checksum": "c1083270e21de0bc96c11aad44ad27bf",
     "grade": false,
     "grade_id": "load_audio",
     "locked": true,
     "schema_version": 3,
     "solution": false,
     "task": false
    }
   },
   "outputs": [],
   "source": [
    "speech = pf.io.read_audio('impulse.wav')"
   ]
  },
  {
   "cell_type": "markdown",
   "id": "8af72d62-a137-48ee-8441-3f5f2d5ecb89",
   "metadata": {
    "deletable": false,
    "editable": false,
    "nbgrader": {
     "cell_type": "markdown",
     "checksum": "aad76da596a9065e9403709db0482994",
     "grade": false,
     "grade_id": "instructions",
     "locked": true,
     "schema_version": 3,
     "solution": false,
     "task": false
    }
   },
   "source": [
    "Now do something cool"
   ]
  },
  {
   "cell_type": "code",
   "execution_count": null,
   "id": "6b1322c0-3297-4083-bdc8-5b8347e1f2c2",
   "metadata": {
    "deletable": false,
    "nbgrader": {
     "cell_type": "code",
     "checksum": "32c22e82544f5d49aabfb8cf019a54e3",
     "grade": false,
     "grade_id": "answer1",
     "locked": false,
     "schema_version": 3,
     "solution": true,
     "task": false
    }
   },
   "outputs": [],
   "source": [
    "# YOUR CODE HERE\n",
    "raise NotImplementedError()"
   ]
  },
  {
   "cell_type": "code",
   "execution_count": null,
   "id": "01b51285-24ec-4c2d-9b6e-3a7d053b4bd6",
   "metadata": {
    "deletable": false,
    "editable": false,
    "nbgrader": {
     "cell_type": "code",
     "checksum": "cd24acc179939415e890ab9ac14fc8e8",
     "grade": true,
     "grade_id": "test1",
     "locked": true,
     "points": 2,
     "schema_version": 3,
     "solution": false,
     "task": false
    }
   },
   "outputs": [],
   "source": [
    "np.testing.assert_equal(something, 'cool')"
   ]
  }
 ],
 "metadata": {
  "kernelspec": {
   "display_name": "oer",
   "language": "python",
   "name": "python3"
  },
  "language_info": {
   "codemirror_mode": {
    "name": "ipython",
    "version": 3
   },
   "file_extension": ".py",
   "mimetype": "text/x-python",
   "name": "python",
   "nbconvert_exporter": "python",
   "pygments_lexer": "ipython3",
   "version": "3.10.16"
  }
 },
 "nbformat": 4,
 "nbformat_minor": 5
}
