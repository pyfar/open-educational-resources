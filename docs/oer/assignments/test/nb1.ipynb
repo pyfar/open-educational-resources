{
 "cells": [
  {
   "cell_type": "markdown",
   "id": "b7a04e05",
   "metadata": {},
   "source": [
    "# Pyfar Open Educational Resources\n",
    "\n",
    "Collection of open educational resources on acoustics.  \n",
    "Visit [pyfar open educational resources](https://pyfar-oer.readthedocs.io/en/latest/) for more."
   ]
  },
  {
   "cell_type": "code",
   "execution_count": null,
   "id": "36805053-a326-4e76-8006-89401aac0b98",
   "metadata": {
    "deletable": false,
    "editable": false,
    "nbgrader": {
     "cell_type": "code",
     "checksum": "ec6514f3c4c5b39f6d6913e07e80a5b0",
     "grade": false,
     "grade_id": "imports",
     "locked": true,
     "schema_version": 3,
     "solution": false,
     "task": false
    }
   },
   "outputs": [],
   "source": [
    "import numpy as np"
   ]
  },
  {
   "cell_type": "markdown",
   "id": "31b8f212-701a-4433-af2d-16453ae311ec",
   "metadata": {
    "deletable": false,
    "editable": false,
    "nbgrader": {
     "cell_type": "markdown",
     "checksum": "9c564c42a95ce64a966cc2e8e67d8666",
     "grade": false,
     "grade_id": "instructions",
     "locked": true,
     "schema_version": 3,
     "solution": false,
     "task": false
    }
   },
   "source": [
    "blablabla"
   ]
  },
  {
   "cell_type": "code",
   "execution_count": null,
   "id": "69ae55db-3a95-4da5-82f9-b437fb78146d",
   "metadata": {
    "deletable": false,
    "nbgrader": {
     "cell_type": "code",
     "checksum": "f5ec584875e35062a31f33c3a0235caa",
     "grade": false,
     "grade_id": "task",
     "locked": false,
     "schema_version": 3,
     "solution": true,
     "task": false
    }
   },
   "outputs": [],
   "source": [
    "# YOUR CODE HERE\n",
    "raise NotImplementedError()"
   ]
  },
  {
   "cell_type": "code",
   "execution_count": null,
   "id": "0f779740-3fd2-4471-9919-ef261be12de6",
   "metadata": {
    "deletable": false,
    "editable": false,
    "nbgrader": {
     "cell_type": "code",
     "checksum": "929e894ae9ff6160ec0269671211876e",
     "grade": true,
     "grade_id": "cell-c661359a14a8713d",
     "locked": true,
     "points": 1,
     "schema_version": 3,
     "solution": false,
     "task": false
    }
   },
   "outputs": [],
   "source": [
    "assert x == 5"
   ]
  }
 ],
 "metadata": {
  "kernelspec": {
   "display_name": "Python 3 (ipykernel)",
   "language": "python",
   "name": "python3"
  },
  "language_info": {
   "codemirror_mode": {
    "name": "ipython",
    "version": 3
   },
   "file_extension": ".py",
   "mimetype": "text/x-python",
   "name": "python",
   "nbconvert_exporter": "python",
   "pygments_lexer": "ipython3",
   "version": "3.10.16"
  }
 },
 "nbformat": 4,
 "nbformat_minor": 5
}
