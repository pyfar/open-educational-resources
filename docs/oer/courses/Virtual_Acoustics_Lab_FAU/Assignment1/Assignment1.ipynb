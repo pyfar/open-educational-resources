{
 "cells": [
  {
   "cell_type": "markdown",
   "metadata": {},
   "source": [
    "# Assignment 1: Sound Propagation Under Free Field Conditions\n",
    "*Sebastian J. Schlecht (1), Nils Meyer-Kahlen (2)*<br>  \n",
    "Notebook: *Cristóbal Andrade (1)*<br>\n",
    "\n",
    "*(1) Friedrich-Alexander-Universität Erlangen-Nürnberg*<br>\n",
    "*(2) Aalto University*<br>\n",
    "\n",
    "*Contact: sebastian.schlecht@fau.de, cristobal.andrade@fau.de*\n",
    "\n",
    "The rendered scene in this assignment is a emergency car driving by a static listener. You will learn to render theses components: stereo panning, propagation delay, the air absorption, distance attenuation.\n",
    "This assignment also shows you the basic workflow for rendering dynamic time-varying scene using block based processing and interpolation.\n",
    "\n",
    "**Duration:** 12 Hours\n",
    "\n",
    "**Requirements:** Basics of Digital Filtering\n",
    "\n",
    "\n",
    "\n",
    "**Dependencies**<br>\n",
    "`pip install matplotlib==3.10.3 numpy==2.2.6 pyfar==0.7.1 scipy==1.15.3 watermark`\n"
   ]
  },
  {
   "cell_type": "code",
   "execution_count": 1,
   "metadata": {},
   "outputs": [],
   "source": [
    "import pyfar as pf\n",
    "import numpy as np\n",
    "import numpy.matlib as npm \n",
    "import matplotlib.pyplot as plt\n",
    "from IPython.display import Audio, display\n",
    "import pooch\n",
    "import os"
   ]
  },
  {
   "cell_type": "markdown",
   "metadata": {},
   "source": [
    "Let’s start by downloading all the necessary files for running this assignment."
   ]
  },
  {
   "cell_type": "code",
   "execution_count": null,
   "metadata": {},
   "outputs": [],
   "source": [
    "# Leave this as it is: This is the URL from which the data will be downloaded\n",
    "\n",
    "url = 'https://github.com/pyfar/open-educational-resources/tree/main/courses/Virtual_Acoustics_Lab_FAU/Assignment1'\n",
    "\n",
    "# Get current working directory (where the notebook was started)\n",
    "notebook_dir = os.getcwd()\n",
    "\n",
    "# Create a Pooch object using that directory\n",
    "my_pooch = pooch.create(\n",
    "    path=notebook_dir,\n",
    "    base_url=url,  # Change this to your actual URL\n",
    "    registry={\n",
    "        \"Scene.py\" : None,\n",
    "        \"VariableDelay_DSP.py\" : None,\n",
    "        \"VariableSOS_DSP.py\" : None,\n",
    "        \"DSP.py\" : None,\n",
    "        \"Config.py\" : None,\n",
    "        \"medium_attenuation.py\" : None,\n",
    "    }\n",
    ")\n",
    "\n",
    "\n",
    "# Download all files\n",
    "for fname in my_pooch.registry:\n",
    "    fpath = my_pooch.fetch(fname)\n",
    "    print(f\"Downloaded: {fpath}\")\n"
   ]
  },
  {
   "cell_type": "markdown",
   "metadata": {},
   "source": [
    "Now let’s import all the necessary files."
   ]
  },
  {
   "cell_type": "code",
   "execution_count": 3,
   "metadata": {},
   "outputs": [],
   "source": [
    "from Config import Config\n",
    "from Scene import getDriveByScene\n",
    "from medium_attenuation import air_attenuation\n",
    "from VariableDelay_DSP import VariableDelay_DSP\n",
    "from VariableSOS_DSP import VariableSOS_DSP\n",
    "from DSP import m2smp, call112\n",
    "\n",
    "\n",
    "%matplotlib inline\n",
    "config = Config()"
   ]
  },
  {
   "cell_type": "markdown",
   "metadata": {},
   "source": [
    "## Create source signal\n",
    "First, we define the signal length and then create a source signal. The source signal is an approximate rendering sound of an emergency vehicle."
   ]
  },
  {
   "cell_type": "code",
   "execution_count": null,
   "metadata": {},
   "outputs": [],
   "source": [
    "signalLength = 6 * config.fs;  # samples corresponding to 6 seconds\n",
    "signal = call112(signalLength, config.fs)\n",
    "\n",
    "# You can listen with the following widget. Please check your sound set-up volume before playing.\n",
    "display(Audio(signal.time, rate=config.fs))"
   ]
  },
  {
   "cell_type": "markdown",
   "metadata": {},
   "source": [
    "## 1 TASK: Compute panning curve\n",
    "a) Define power-preserving panning gains gainLeft and gainRight according to the direction of arrival (doa). Recall how azimuth is defined in the appropriate coordinate.\n",
    "\n",
    "**Hint**: $g_l^2(\\phi) + g_r^2(\\phi) = const$ \n",
    "\n",
    "b) Plot the panning gains\n",
    "\n",
    "c) Plot the summed power"
   ]
  },
  {
   "cell_type": "code",
   "execution_count": null,
   "metadata": {
    "deletable": false,
    "nbgrader": {
     "cell_type": "code",
     "checksum": "cbd61899c3bcf47e481315630da2752c",
     "grade": false,
     "grade_id": "task_1",
     "locked": false,
     "schema_version": 3,
     "solution": true,
     "task": false
    },
    "tags": [
     "solution"
    ]
   },
   "outputs": [],
   "source": [
    "doa_azimuth = np.linspace(np.pi/2, -np.pi/2,100)\n",
    "\n",
    "# YOUR CODE HERE\n",
    "raise NotImplementedError()"
   ]
  },
  {
   "cell_type": "markdown",
   "metadata": {},
   "source": [
    "## 2 TASK: Pan the source signal to 25 degrees on the left\n",
    "a) Apply the panning gains for the source signal\n",
    "\n",
    "b) Write the result to a 2-channel output called signalPanned of size(signalLength, 2)\n",
    "\n",
    "c) Listen to the signalPanned\n",
    "\n",
    "**Hint**: use deg2rad for conversion "
   ]
  },
  {
   "cell_type": "code",
   "execution_count": null,
   "metadata": {
    "deletable": false,
    "nbgrader": {
     "cell_type": "code",
     "checksum": "93b5555be3839488eb46be5b959aed6f",
     "grade": false,
     "grade_id": "task_2",
     "locked": false,
     "schema_version": 3,
     "solution": true,
     "task": false
    },
    "tags": [
     "solution"
    ]
   },
   "outputs": [],
   "source": [
    "# YOUR CODE HERE\n",
    "raise NotImplementedError()\n",
    "\n",
    "# You can listen to your ouput signal the following widget. Please check your sound set-up volume before playing.\n",
    "#display(Audio(singalPanned, rate=config.fs))"
   ]
  },
  {
   "cell_type": "markdown",
   "metadata": {},
   "source": [
    "##  Create air absorption filters\n",
    "Next, we implement the subcomponents for the transmission through air. For this, we compute the absorption depending on atmospheric parameters at each frequency.\n"
   ]
  },
  {
   "cell_type": "code",
   "execution_count": 7,
   "metadata": {},
   "outputs": [],
   "source": [
    "f = np.linspace(0, config.fs/2, 2 ** 10)\n",
    "T = config.temperature\n",
    "hr = config.relativeHumidity\n",
    "alpha_iso = air_attenuation(T, f, hr) "
   ]
  },
  {
   "cell_type": "markdown",
   "metadata": {},
   "source": [
    "## 3 TASK: plot the air absorption \n",
    "a) Plot on a logarithmic frequency scale \n",
    "\n",
    "b) Add the correct labels"
   ]
  },
  {
   "cell_type": "code",
   "execution_count": null,
   "metadata": {
    "deletable": false,
    "nbgrader": {
     "cell_type": "code",
     "checksum": "d88d6070375f2107b90a7f85c4f7131b",
     "grade": false,
     "grade_id": "task_3",
     "locked": false,
     "schema_version": 3,
     "solution": true,
     "task": false
    },
    "tags": [
     "solution"
    ]
   },
   "outputs": [],
   "source": [
    "# YOUR CODE HERE\n",
    "raise NotImplementedError()"
   ]
  },
  {
   "cell_type": "markdown",
   "metadata": {
    "vscode": {
     "languageId": "raw"
    }
   },
   "source": [
    "## 4 TASK: Decribe the main features of the plot here\n"
   ]
  },
  {
   "cell_type": "code",
   "execution_count": 9,
   "metadata": {
    "deletable": false,
    "nbgrader": {
     "cell_type": "code",
     "checksum": "44ee9b46679586e9a0e689bb3b1be687",
     "grade": false,
     "grade_id": "task_4",
     "locked": false,
     "schema_version": 3,
     "solution": true,
     "task": false
    },
    "tags": [
     "solution"
    ]
   },
   "outputs": [],
   "source": [
    "# Write your description here\n",
    "# YOUR CODE HERE\n",
    "raise NotImplementedError()"
   ]
  },
  {
   "cell_type": "markdown",
   "metadata": {},
   "source": [
    "## 5 TASK: compute the air absorption IIR filters\n",
    "Next, we have to convert the air absorption specification into a digital filter which can be applied efficiently to the source signal. A good representation of a digital filter is the second-order section (SOS). We\n",
    "use this framework here, although this first filter is only a first order filter.\n",
    "\n",
    "### 5.1 Implement the function designOnePoleFilter\n",
    "a) See: https://ccrma.stanford.edu/~jos/fp/One_Pole.html\n",
    "\n",
    "b) Solve for a1 and b0 (e.g. by plugging in HDc and HNyq and rearranging)\n",
    "\n",
    "c) Implement the filter coefficients into second-order sections (SOSs) [b0; b1; b2; a0; a1; a2], where a0 = 1.\n",
    "\n",
    "d) Vectorize for multiple filters. For example: you want to compute the filter coefficients for two filters at the same time. Let's say the input values are HDc = [1, 0.9] and HNyq = [0.7, 0.5]. The output shoud be a matrix of sos coefficient of size [6 x 2]. The first column of sos is the first filter corresponding to gains 1 and 0.7. The second column is the second filter corresponding to gains 0.9 and 0.5."
   ]
  },
  {
   "cell_type": "code",
   "execution_count": 10,
   "metadata": {
    "deletable": false,
    "nbgrader": {
     "cell_type": "code",
     "checksum": "8dcc3cb7ed3cf39dd75a30c19c7871b6",
     "grade": false,
     "grade_id": "task_5",
     "locked": false,
     "schema_version": 3,
     "solution": true,
     "task": false
    },
    "tags": [
     "solution"
    ]
   },
   "outputs": [],
   "source": [
    "def designOnePoleFilter(HDc, HNyq, fs):\n",
    "#designOnePoleFilter - compute one pole filter \n",
    "#\n",
    "# Inputs:\n",
    "#    HDc - Linear magnitude at DC of size [1, number of filters]\n",
    "#    HNyq - Linear magnitude at Nyquist of size [1, number of filters]\n",
    "#\n",
    "# Outputs:\n",
    "#    sos - sos filters of size [6 x number of filters]\n",
    "\n",
    "    numFilters = np.size(HDc)\n",
    "    sos = pf.FilterSOS(np.zeros((numFilters, 6)), sampling_rate=fs)\n",
    "    sos.coefficients[0,:, 3] = 1\n",
    "\n",
    "    # YOUR CODE HERE\n",
    "    raise NotImplementedError()\n",
    "    return sos"
   ]
  },
  {
   "cell_type": "markdown",
   "metadata": {},
   "source": [
    "### 5.2 Compute Filters"
   ]
  },
  {
   "cell_type": "markdown",
   "metadata": {},
   "source": [
    "a) Compute filter for distance of 1 meter\n",
    "\n",
    "b) Plot filter magnitude response and ideal response\n",
    "\n",
    "c) Compute filter for distance of 7 meter\n",
    "\n",
    "d) Plot filter magnitude response and ideal response\n",
    "\n",
    "**Hint**: You can use pyfar's sos.process()"
   ]
  },
  {
   "cell_type": "code",
   "execution_count": null,
   "metadata": {
    "deletable": false,
    "nbgrader": {
     "cell_type": "code",
     "checksum": "1045b2b7fcc6e0a1e36287b8dcbccda8",
     "grade": false,
     "grade_id": "task_6",
     "locked": false,
     "schema_version": 3,
     "solution": true,
     "task": false
    },
    "tags": [
     "solution"
    ]
   },
   "outputs": [],
   "source": [
    "# YOUR CODE HERE\n",
    "raise NotImplementedError()"
   ]
  },
  {
   "cell_type": "markdown",
   "metadata": {
    "vscode": {
     "languageId": "raw"
    }
   },
   "source": [
    "## 6 TASK: describe and comment the plots\n",
    " WRITE YOUR ANSWER HERE"
   ]
  },
  {
   "cell_type": "markdown",
   "metadata": {},
   "source": [
    "### Note:\n",
    "The simple one-pole filter design is quite inaccurate for larger distances, and it can be highly improved with more dedicated filter designs for second or third order filters. For further reference, please see Kates, J. M. & Brandewie, E. J. Adding air absorption to simulated room acoustic models. J Acoust Soc Am 148, EL408-EL413 (2020)."
   ]
  },
  {
   "cell_type": "markdown",
   "metadata": {},
   "source": [
    "## 7 TASK: Filter 'signal' according to 10m distance of air absorption.\n",
    "\n",
    "Design a one pole filter accordingly and plot the input and filtered power spectral density (PSD)  \n",
    "**Hint**: You can use pyfar's sos.process()"
   ]
  },
  {
   "cell_type": "code",
   "execution_count": null,
   "metadata": {
    "deletable": false,
    "nbgrader": {
     "cell_type": "code",
     "checksum": "c87090dc555cbe17b3cc3d2c7aa5bff5",
     "grade": false,
     "grade_id": "task_7",
     "locked": false,
     "schema_version": 3,
     "solution": true,
     "task": false
    },
    "tags": [
     "solution"
    ]
   },
   "outputs": [],
   "source": [
    "# YOUR CODE HERE\n",
    "raise NotImplementedError()"
   ]
  },
  {
   "cell_type": "markdown",
   "metadata": {
    "vscode": {
     "languageId": "raw"
    }
   },
   "source": [
    "## 8 TASK: Describe briefly what you see and hear.\n",
    "WRITE YOUR ANSWER HERE\n"
   ]
  },
  {
   "cell_type": "markdown",
   "metadata": {},
   "source": [
    "### Now we make the scene dynamic\n",
    "Define Scene = Source position is dynamic during runtime\n",
    "\n",
    "The Scene struct contains parameters of the acoustic scene, such as source and listener positions. Typically such scene descriptions can vary over time, where the parameters can change at each block, e.g., every 256 samples. Here, we create a scene with 1000 blocks."
   ]
  },
  {
   "cell_type": "code",
   "execution_count": 13,
   "metadata": {},
   "outputs": [],
   "source": [
    "scenes = getDriveByScene(1000)"
   ]
  },
  {
   "cell_type": "markdown",
   "metadata": {},
   "source": [
    "## 9 TASK: Implement Processing\n",
    "The signal processing is performed over signal blocks, which is typical for real-time and time-varying audio. Each block provides 256 samples of audio and a few parameters from the scene description. \n",
    "Your task is to implement direct sound processing, including air absorption and the stereo panning for the right impression of the sound direction. You can find more detailed tasks below. \n",
    "\n",
    "We initialize the processing blocks. Please read the DSP block implementation and familiarize yourself with the corresponding python documentation.\n",
    "\n",
    "\n",
    "Example usage can be seen in \n",
    "- VariableSOS_DSP\n",
    "- VariableDelay_DSP"
   ]
  },
  {
   "cell_type": "code",
   "execution_count": 14,
   "metadata": {},
   "outputs": [],
   "source": [
    "variablePropagationDelay = VariableDelay_DSP(1, config)\n",
    "variableAirAbsorption = VariableSOS_DSP(config)"
   ]
  },
  {
   "cell_type": "markdown",
   "metadata": {},
   "source": [
    "Implement the processing of the direct sound\n",
    "\n",
    "a) Compute start and end distance\n",
    "\n",
    "b) Compute and process distance gain (hint: 1/r law)\n",
    "\n",
    "c) Set and process propagation delay from distance (hint: VariableDelay_DSP)\n",
    "\n",
    "d) Compute air absorption filter coefficients\n",
    "\n",
    "e) Set and process air absorption filter (hint: VariableSOS_DSP)\n",
    "\n",
    "f) Pan the source\n"
   ]
  },
  {
   "cell_type": "code",
   "execution_count": 15,
   "metadata": {
    "deletable": false,
    "nbgrader": {
     "cell_type": "code",
     "checksum": "d39196ca4819da0b7fa30a59ce881d94",
     "grade": false,
     "grade_id": "task_8",
     "locked": false,
     "schema_version": 3,
     "solution": true,
     "task": false
    },
    "tags": [
     "solution"
    ]
   },
   "outputs": [],
   "source": [
    "# Initialize some variables that might be helpful\n",
    "lastRelativePosition = np.array([100, 0, 0])\n",
    "\n",
    "outputSignal = np.zeros((signalLength, 2))\n",
    "\n",
    "for itBlock in range(len(scenes)):\n",
    "    # Get sample block and current scene instance\n",
    "    # YOUR CODE HERE\n",
    "    raise NotImplementedError()\n",
    "    \n",
    "    # Calculate distance gain, delay, air absorption, and panning\n",
    "    # YOUR CODE HERE\n",
    "    raise NotImplementedError()\n",
    "    \n",
    "    # Apply panning gains to the processed block and store in output signal\n",
    "    # YOUR CODE HERE\n",
    "    raise NotImplementedError()"
   ]
  },
  {
   "cell_type": "markdown",
   "metadata": {},
   "source": [
    "## 10 TASK: Describe the sonic result\n",
    "Describe features such as Doppler shift, air absorption, and direction. Please also include the .wav file in your submission (make sure to not clip the audio file).\n",
    "\n",
    "a) Use Audio Widget for playback\n",
    "\n",
    "b) Use audiowrite for writing the assignment_Direct.wav file"
   ]
  },
  {
   "cell_type": "code",
   "execution_count": null,
   "metadata": {
    "deletable": false,
    "nbgrader": {
     "cell_type": "code",
     "checksum": "55639a60b8cc63620bd605c1f4e4ac80",
     "grade": false,
     "grade_id": "task_9",
     "locked": false,
     "schema_version": 3,
     "solution": true,
     "task": false
    },
    "tags": [
     "solution"
    ]
   },
   "outputs": [],
   "source": [
    "# YOUR CODE HERE\n",
    "raise NotImplementedError()\n",
    "\n",
    "# You can listen to your ouput signal the following widget. Please check your sound set-up volume before playing.\n",
    "#display(Audio(outputSignal.transpose(), rate=config.fs))"
   ]
  },
  {
   "cell_type": "markdown",
   "metadata": {},
   "source": [
    "## 11 TASK: Describe the time-domain response\n",
    "How does it conform to your expectation of direct sound processing? Describe features such as periodicity shift and envelope.\n",
    "\n",
    "a) Use plot\n",
    "\n",
    "b) Include correct axis labels"
   ]
  },
  {
   "cell_type": "code",
   "execution_count": null,
   "metadata": {
    "deletable": false,
    "nbgrader": {
     "cell_type": "code",
     "checksum": "0732e46ceb5a83aeb8641e0430c66b77",
     "grade": false,
     "grade_id": "task_10",
     "locked": false,
     "schema_version": 3,
     "solution": true,
     "task": false
    },
    "tags": [
     "solution"
    ]
   },
   "outputs": [],
   "source": [
    "# YOUR CODE HERE\n",
    "raise NotImplementedError()"
   ]
  },
  {
   "cell_type": "markdown",
   "metadata": {},
   "source": [
    "## 12 TASK : Describe the spectrogram\n",
    "How does it conform to your expectation of direct sound processing? Describe features such as Doppler shift and air absorption.\n",
    "\n",
    "1. use spectrogram\n",
    "1. scale the frequency axis logarithmically, see XScale property\n"
   ]
  },
  {
   "cell_type": "code",
   "execution_count": null,
   "metadata": {
    "deletable": false,
    "nbgrader": {
     "cell_type": "code",
     "checksum": "5b8d10c28dcbd37d36164bbd9be6688c",
     "grade": false,
     "grade_id": "task_11",
     "locked": false,
     "schema_version": 3,
     "solution": true,
     "task": false
    },
    "tags": [
     "solution"
    ]
   },
   "outputs": [],
   "source": [
    "# YOUR CODE HERE\n",
    "raise NotImplementedError()"
   ]
  },
  {
   "cell_type": "markdown",
   "metadata": {},
   "source": [
    "# License notice\n",
    "This notebook is licensed under CC BY 4.0"
   ]
  },
  {
   "cell_type": "markdown",
   "metadata": {},
   "source": [
    "# Watermark\n",
    "The following watermark might help others to install specific package versions that might be required to run the notebook. "
   ]
  },
  {
   "cell_type": "code",
   "execution_count": 1,
   "metadata": {},
   "outputs": [
    {
     "name": "stdout",
     "output_type": "stream",
     "text": [
      "Python implementation: CPython\n",
      "Python version       : 3.12.9\n",
      "IPython version      : 8.12.3\n",
      "\n",
      "numpy    : 2.1.3\n",
      "scipy    : 1.15.2\n",
      "pyfar    : 0.7.1\n",
      "sofar    : 1.2.1\n",
      "nbgrader : 0.9.5\n",
      "watermark: 2.5.0\n",
      "\n",
      "Compiler    : Clang 13.0.0 (clang-1300.0.29.30)\n",
      "OS          : Darwin\n",
      "Release     : 24.4.0\n",
      "Machine     : arm64\n",
      "Processor   : arm\n",
      "CPU cores   : 12\n",
      "Architecture: 64bit\n",
      "\n"
     ]
    }
   ],
   "source": [
    "%load_ext watermark\n",
    "%watermark -v -m -p numpy,scipy,pyfar,sofar,nbgrader,watermark"
   ]
  }
 ],
 "metadata": {
  "kernelspec": {
   "display_name": "Python 3",
   "language": "python",
   "name": "python3"
  },
  "language_info": {
   "codemirror_mode": {
    "name": "ipython",
    "version": 3
   },
   "file_extension": ".py",
   "mimetype": "text/x-python",
   "name": "python",
   "nbconvert_exporter": "python",
   "pygments_lexer": "ipython3",
   "version": "3.12.9"
  }
 },
 "nbformat": 4,
 "nbformat_minor": 4
}
