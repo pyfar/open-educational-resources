{
 "cells": [
  {
   "cell_type": "markdown",
   "metadata": {},
   "source": [
    "# pyfar challenge\n",
    "*The pyfar developers*<br>  \n",
    "*pyfar.org*<br>  \n",
    "*Contact: info@pyfar.org*\n",
    "\n",
    "This assignment will familiarize you with some of the basic pyfar functionality. For help visit the [pyfar documentation](https://pyfar.org)\n",
    "\n",
    "**Audience:** People, who are new to pyfar.\n",
    "\n",
    "**Requirements:** No previous knowledge required. Minimal numpy skills are advantageous.\n",
    "\n",
    "**Duration:** 45 Minutes\n",
    "\n",
    "**Dependencies**<br>  \n",
    "`pip install pyfar>=0.7 sounddevice ipympl ipykernel`"
   ]
  },
  {
   "cell_type": "code",
   "execution_count": null,
   "metadata": {},
   "outputs": [],
   "source": [
    "import pyfar as pf\n",
    "import numpy as np\n",
    "import sounddevice as sd\n",
    "import matplotlib.pyplot as plt\n",
    "%matplotlib ipympl"
   ]
  },
  {
   "cell_type": "markdown",
   "metadata": {},
   "source": [
    "## 1. pyfar Signals\n",
    "\n",
    "pyfar Signal objects store audio data that can be converted between the time and frequency domain. They also contain useful meta data such as the sampling rate or the frequencies at which the spectrum is available. See their [documentation](https://pyfar.readthedocs.io/en/stable/classes/pyfar.audio.html) for more information\n",
    "\n",
    "Generate a Signal with a sampling rate of 48 kHz and the time data ``[0, 2, 0, 0]``."
   ]
  },
  {
   "cell_type": "code",
   "execution_count": null,
   "metadata": {
    "deletable": false,
    "nbgrader": {
     "cell_type": "code",
     "checksum": "fb41091f945ccc024630e880e9323f42",
     "grade": false,
     "grade_id": "create_signal",
     "locked": false,
     "schema_version": 3,
     "solution": true,
     "task": false
    }
   },
   "outputs": [],
   "source": [
    "# YOUR CODE HERE\n",
    "raise NotImplementedError()"
   ]
  },
  {
   "cell_type": "markdown",
   "metadata": {},
   "source": [
    "Inspect your Signal by printing the sampling rate, time data, the times at which the data is available, and the number of samples."
   ]
  },
  {
   "cell_type": "code",
   "execution_count": null,
   "metadata": {
    "deletable": false,
    "nbgrader": {
     "cell_type": "code",
     "checksum": "d4743dcebbbdfaa581308ee604a76c16",
     "grade": false,
     "grade_id": "signal_meta_data_1",
     "locked": false,
     "schema_version": 3,
     "solution": true,
     "task": false
    }
   },
   "outputs": [],
   "source": [
    "# YOUR CODE HERE\n",
    "raise NotImplementedError()"
   ]
  },
  {
   "cell_type": "markdown",
   "metadata": {},
   "source": [
    "You entered time data into the Signal, but you can also access the frequency domain data because the Signal can do the Fourier transform for you. Print the complex spectrum, the frequencies at which the spectrum is available, and the number of frequencies."
   ]
  },
  {
   "cell_type": "code",
   "execution_count": null,
   "metadata": {
    "deletable": false,
    "nbgrader": {
     "cell_type": "code",
     "checksum": "1c156757db3d0adfcd6d8c979c9ca3ac",
     "grade": false,
     "grade_id": "signal_meta_data_2",
     "locked": false,
     "schema_version": 3,
     "solution": true,
     "task": false
    }
   },
   "outputs": [],
   "source": [
    "# YOUR CODE HERE\n",
    "raise NotImplementedError()"
   ]
  },
  {
   "cell_type": "markdown",
   "metadata": {},
   "source": [
    "Generate a second Signal with the same sampling rate and the time data ``[0, -1, 0, 0]`` with the variable name ``signal_2``. Add this Signal to the one that you generated above and print the time data of the result. See the [arithmetics operations examples](https://pyfar-gallery.readthedocs.io/en/latest/gallery/interactive/pyfar_arithmetics.html) for more details on this."
   ]
  },
  {
   "cell_type": "code",
   "execution_count": null,
   "metadata": {
    "deletable": false,
    "nbgrader": {
     "cell_type": "code",
     "checksum": "dcfc1feb85a58f3cd34714fdd52e74c7",
     "grade": false,
     "grade_id": "signal_arithmetics",
     "locked": false,
     "schema_version": 3,
     "solution": true,
     "task": false
    }
   },
   "outputs": [],
   "source": [
    "# YOUR CODE HERE\n",
    "raise NotImplementedError()"
   ]
  },
  {
   "cell_type": "markdown",
   "metadata": {},
   "source": [
    "## 2. Plotting\n",
    "\n",
    "Visually inspecting Signals is a common task and pyfar contains different [plot functions](https://pyfar.readthedocs.io/en/stable/modules/pyfar.plot.html) for this purpose. In the background, pyfar uses [Matplotlib](https://matplotlib.org/) for plotting. If you are using an interactive [Matplotlib backend](https://matplotlib.org/stable/users/explain/figure/backends.html), which is the case for this tutorial, you can use the [pyfar plotting shortcuts](https://pyfar.readthedocs.io/en/stable/modules/pyfar.plot.html#pyfar.plot.shortcuts) for example to quickly switch between different plots, zoom into an axis, or change the unit of the axis.\n",
    "\n",
    "Run the cell below to create an interactive plot. Then use pyfar keybord shortcuts to modify the plot below to:\n",
    "\n",
    "- show the time in samples on the x-axis,\n",
    "- zoom in to see x-axis to see only the first 50 samples,\n",
    "- show magnitude spectrum in dB,\n",
    "- zoom in to the y-axis to see only therange of +/- 6 dB, and\n",
    "- show the group delay in samples.\n",
    "\n",
    "Hint: You might need to activate the plot by clicking on it to make the shortcuts work."
   ]
  },
  {
   "cell_type": "code",
   "execution_count": null,
   "metadata": {},
   "outputs": [],
   "source": [
    "# this uses the pyfar plot style. Without this the figure created in the next\n",
    "# line would use the Matplotlib plot style.\n",
    "pf.plot.use()\n",
    "plt.figure()\n",
    "pf.plot.time(pf.signals.impulse(1024, 10))\n",
    "plt.show()"
   ]
  },
  {
   "cell_type": "markdown",
   "metadata": {},
   "source": [
    "## 3. Signal Processing\n",
    "\n",
    "Pyfar contains many functions for processing Signals in the [dsp module](https://pyfar.readthedocs.io/en/stable/modules/pyfar.dsp.html) and the [dsp.filter submodule](https://pyfar.readthedocs.io/en/stable/modules/pyfar.dsp.filter.html). Lets start by loading a speech signal to play with"
   ]
  },
  {
   "cell_type": "code",
   "execution_count": null,
   "metadata": {},
   "outputs": [],
   "source": [
    "speech = pf.signals.files.speech()"
   ]
  },
  {
   "cell_type": "markdown",
   "metadata": {},
   "source": [
    "Filter the speech Signal into octaves between 20 Hz and 16 kHz using the [fractional octaves filter bank](https://pyfar.readthedocs.io/en/stable/modules/pyfar.dsp.filter.html#pyfar.dsp.filter.fractional_octave_bands)."
   ]
  },
  {
   "cell_type": "code",
   "execution_count": null,
   "metadata": {
    "deletable": false,
    "nbgrader": {
     "cell_type": "code",
     "checksum": "20e73b89b67980b6c60c42d127289a0f",
     "grade": false,
     "grade_id": "filter",
     "locked": false,
     "schema_version": 3,
     "solution": true,
     "task": false
    }
   },
   "outputs": [],
   "source": [
    "# YOUR CODE HERE\n",
    "raise NotImplementedError()"
   ]
  },
  {
   "cell_type": "markdown",
   "metadata": {},
   "source": [
    "How many channels does the speech signal have before and after filtering? Hint: there is a property of the [Signal class](https://pyfar.readthedocs.io/en/stable/classes/pyfar.audio.html#pyfar.Signal) that tells you the so called channel shape of a Signal."
   ]
  },
  {
   "cell_type": "code",
   "execution_count": null,
   "metadata": {
    "deletable": false,
    "nbgrader": {
     "cell_type": "code",
     "checksum": "12959f9ebb2c8267082118076778a445",
     "grade": false,
     "grade_id": "filter_result",
     "locked": false,
     "schema_version": 3,
     "solution": true,
     "task": false
    }
   },
   "outputs": [],
   "source": [
    "# YOUR CODE HERE\n",
    "raise NotImplementedError()"
   ]
  },
  {
   "cell_type": "markdown",
   "metadata": {},
   "source": [
    "Lets again plot the result and explore some more shortcuts. Can you find out how to switch between showing all channels of a Signal and cycle between single channels?"
   ]
  },
  {
   "cell_type": "code",
   "execution_count": null,
   "metadata": {},
   "outputs": [],
   "source": [
    "plt.figure()\n",
    "pf.plot.freq(speech_filtered)\n",
    "plt.show()"
   ]
  },
  {
   "cell_type": "markdown",
   "metadata": {},
   "source": [
    "Lets compute the RMS power of each octave and plot the result. For this you need to get the center frequencies of the octaves and find out about [FrequencyData objects](https://pyfar.readthedocs.io/en/stable/classes/pyfar.audio.html#pyfar.FrequencyData)."
   ]
  },
  {
   "cell_type": "code",
   "execution_count": null,
   "metadata": {
    "deletable": false,
    "nbgrader": {
     "cell_type": "code",
     "checksum": "584f61f887f06d507878f903b5ffc8eb",
     "grade": false,
     "grade_id": "dsp",
     "locked": false,
     "schema_version": 3,
     "solution": true,
     "task": false
    }
   },
   "outputs": [],
   "source": [
    "# compute the RMS power\n",
    "# YOUR CODE HERE\n",
    "raise NotImplementedError()\n",
    "\n",
    "# get third octave center frequencies\n",
    "# YOUR CODE HERE\n",
    "raise NotImplementedError()\n",
    "\n",
    "# make FrequencyData object for plotting\n",
    "# YOUR CODE HERE\n",
    "raise NotImplementedError()\n",
    "\n",
    "# plot the result\n",
    "plt.figure()\n",
    "pf.plot.freq(rms_frequency_data)\n",
    "plt.show()"
   ]
  },
  {
   "cell_type": "markdown",
   "metadata": {},
   "source": [
    "## 4. Audio IO\n",
    "\n",
    "Besides visual inspection, it is often useful to listen to audio signals. There are two ways to do this. First try to directly listen to a single channel of the filtered speech Signal using [sounddevice play](https://python-sounddevice.readthedocs.io/en/0.5.1/api/convenience-functions.html#sounddevice.play). By default, this uses the system speaker for sound playback."
   ]
  },
  {
   "cell_type": "code",
   "execution_count": null,
   "metadata": {
    "deletable": false,
    "nbgrader": {
     "cell_type": "code",
     "checksum": "5636d2ee8a216193696156c23b1bbc0f",
     "grade": false,
     "grade_id": "audio_io",
     "locked": false,
     "schema_version": 3,
     "solution": true,
     "task": false
    }
   },
   "outputs": [],
   "source": [
    "# select an octave center frequency to listen to\n",
    "idx = 3\n",
    "print(f\"listening to {frequencies[idx]:.0f} Hz octave signal\")\n",
    "\n",
    "# Now listen using sd.play which needs a flat numpy array containing the time\n",
    "# data of the Signal for playback.\n",
    "# YOUR CODE HERE\n",
    "raise NotImplementedError()"
   ]
  },
  {
   "cell_type": "markdown",
   "metadata": {},
   "source": [
    "## 5. Coordinates\n",
    "\n",
    "In many cases, we don't only have one signal but many signals acquired at different positions in space. pyfar's [Coordinate class](https://pyfar.readthedocs.io/en/stable/classes/pyfar.coordinates.html) can store points in space in many different coordinate systems. It can also convert between coordinate systems and help you to find a specific point or set of points.\n",
    "\n",
    "Generate a coordinate objects with azimuth angles of 0, 1, 2, ..., 359 degree, elevation angles of zero degree and radii of 1.5 meter. Which [Coordinate system](https://pyfar.readthedocs.io/en/stable/classes/pyfar.coordinates.html) is the best for this task?"
   ]
  },
  {
   "cell_type": "code",
   "execution_count": null,
   "metadata": {
    "deletable": false,
    "nbgrader": {
     "cell_type": "code",
     "checksum": "c86050d95579dc9c00e0ebda722ad0cb",
     "grade": false,
     "grade_id": "coordinates_1",
     "locked": false,
     "schema_version": 3,
     "solution": true,
     "task": false
    }
   },
   "outputs": [],
   "source": [
    "# store the data in the variable `coordinates`\n",
    "# YOUR CODE HERE\n",
    "raise NotImplementedError()\n",
    "\n",
    "# verify you coordinates object by plotting the points it contains\n",
    "coordinates.show()\n",
    "plt.show()"
   ]
  },
  {
   "cell_type": "markdown",
   "metadata": {},
   "source": [
    "Find and plot the three points that are closest to the azimuth angle of zero degree. The [Coordinate class](https://pyfar.readthedocs.io/en/stable/classes/pyfar.coordinates.html) has different find functions, which one should you use?"
   ]
  },
  {
   "cell_type": "code",
   "execution_count": null,
   "metadata": {
    "deletable": false,
    "nbgrader": {
     "cell_type": "code",
     "checksum": "8418173d3f63c1779ea8d2800c9290b6",
     "grade": false,
     "grade_id": "coordinates_2",
     "locked": false,
     "schema_version": 3,
     "solution": true,
     "task": false
    }
   },
   "outputs": [],
   "source": [
    "# get the indices of the points described above\n",
    "# YOUR CODE HERE\n",
    "raise NotImplementedError()\n",
    "\n",
    "# plot the result. Hint: `idx` are the indices of the desired points returned\n",
    "# by the `find_` function of the Coordinates class\n",
    "coordinates.show(list(idx))\n",
    "plt.show()"
   ]
  },
  {
   "cell_type": "markdown",
   "metadata": {},
   "source": [
    "Last, rotate the points 90 degree about the x-axis and plot the result."
   ]
  },
  {
   "cell_type": "code",
   "execution_count": null,
   "metadata": {
    "deletable": false,
    "nbgrader": {
     "cell_type": "code",
     "checksum": "04ca41792d4c099fa35054d74b88b0da",
     "grade": false,
     "grade_id": "coordinates_3",
     "locked": false,
     "schema_version": 3,
     "solution": true,
     "task": false
    }
   },
   "outputs": [],
   "source": [
    "# start by making a copy to make sure the original coordinates are not changed.\n",
    "# Most pyfar classes have a `copy` function that can do this\n",
    "rotated = coordinates.copy()\n",
    "\n",
    "# now rotate around the x-axis\n",
    "# YOUR CODE HERE\n",
    "raise NotImplementedError()\n",
    "\n",
    "\n",
    "# as always, lets end with a quick visual inspection\n",
    "rotated.show()\n",
    "plt.show()"
   ]
  },
  {
   "cell_type": "markdown",
   "metadata": {},
   "source": [
    "## Congratulations,\n",
    "\n",
    "you are now a pyfarian. If this got you interested, visit the [examples](https://pyfar-gallery.readthedocs.io/en/latest/#examples) of the pyfar documentation to find out what else you can do with pyfar and related packages."
   ]
  },
  {
   "cell_type": "markdown",
   "metadata": {},
   "source": [
    "# License notice\n",
    "\n",
    "This notebook © **2025** by **the pyfar developers** is licensed under [CC BY 4.0](http://creativecommons.org/licenses/by/4.0/?ref=chooser-v1)"
   ]
  },
  {
   "cell_type": "markdown",
   "metadata": {},
   "source": [
    "# Watermark\n",
    "\n",
    "The following watermark might help others to install specific package versions that might be required to run the notebook. Please give at least the versions of Python, IPython, numpy , and scipy, major third party packagers (e.g., pytorch), and all used pyfar packages."
   ]
  },
  {
   "cell_type": "code",
   "execution_count": null,
   "metadata": {},
   "outputs": [],
   "source": [
    "%load_ext watermark\n",
    "%watermark -v -m -p numpy,scipy,pyfar,sounddevice,nbgrader,watermark"
   ]
  }
 ],
 "metadata": {
  "kernelspec": {
   "display_name": "Python 3 (ipykernel)",
   "language": "python",
   "name": "python3"
  },
  "language_info": {
   "codemirror_mode": {
    "name": "ipython",
    "version": 3
   },
   "file_extension": ".py",
   "mimetype": "text/x-python",
   "name": "python",
   "nbconvert_exporter": "python",
   "pygments_lexer": "ipython3",
   "version": "3.13.4"
  }
 },
 "nbformat": 4,
 "nbformat_minor": 4
}
