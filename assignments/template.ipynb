{
 "cells": [
  {
   "cell_type": "markdown",
   "metadata": {},
   "source": [
    "# Title of the Assignment\n",
    "*Autors1$^1$, Author2$^1$*<br>\n",
    "*$^1$ Afilliation*<br>\n",
    "*Contact: your.mail@provider.org*\n",
    "\n",
    "Describe the assignment in a brief introduction. If required feel free to use images or equations to make the assignment clear. Add the estimated duration for completing the assignment below. This assumes that the background and math was introduced by the lecturer before starting the assignment. Also give at least one reference which provides a more comprehensive background of the assignment. A lecturer should be able to understand the assignment after going through the references. Please provide a minimum set of references just enough to achieve this. The dependencies should list all packages that must be installed to run the notebook. If specific versions of packages are required, this should be noted as in the example below.\n",
    "\n",
    "**Duration:** XX Minutes\n",
    "\n",
    "**References**<br>\n",
    "[1] First reference<br>\n",
    "[2] Second reference\n",
    "\n",
    "**Dependencies**<br>\n",
    "`pip install pyfar>=0.7 watermark`"
   ]
  },
  {
   "cell_type": "markdown",
   "metadata": {},
   "source": [
    "### Delete this block after reading\n",
    "\n",
    "The following code block contains the import statements. Import only packages that are needed and follow common abbreviations, e.g., `import pyfar as pf` where ever possible.\n",
    "\n",
    "Make sure that all plots are displayed as intended. If using *Matplotlib* for plotting add the inline magic `$matplotlib inline` if plots in the notebook are static or `%matplotlib ipympl`for interactive plots that for example allow zooming into the axes."
   ]
  },
  {
   "cell_type": "code",
   "execution_count": 1,
   "metadata": {},
   "outputs": [],
   "source": [
    "import pyfar as pf\n",
    "%matplotlib inline"
   ]
  },
  {
   "cell_type": "markdown",
   "metadata": {},
   "source": [
    "## 1. Structure of the Assignment\n",
    "\n",
    "If possible divide your assignment into multiple smaller tasks. This will help students to successfully complete the assignments. It is also good to give them hints for checking their results, for example, by printing or plotting (intermediate) results. If possible provide hints for how the result should look like. Some assignments may be automatically checked. See blow for more information."
   ]
  },
  {
   "cell_type": "markdown",
   "metadata": {},
   "source": [
    "## 2. Code styling\n",
    "\n",
    "We do not enforce strict rules for code style but welcome a few things (also see examples below)\n",
    "\n",
    "- Use verbose parameter names if possible, e.g., `room_volume` should be preferred over `V`\n",
    "- Limit the length of the code and comments to roughly 79 characters\n",
    "- Use markdown cells (as this one) and comments in the code cells to explain the current task\n",
    "- Code that must be edited / completed by the students should be clearly marked, e.g., using `None` or `#TODO`"
   ]
  },
  {
   "cell_type": "code",
   "execution_count": 2,
   "metadata": {},
   "outputs": [],
   "source": [
    "# Set the room volume in cubic meters and\n",
    "# equivalent absorption area in square in square meters\n",
    "room_volume = None\n",
    "equivalent_absorption_area = None\n",
    "\n",
    "# compute the Sabine reverberation time\n",
    "reverberation_time_sabine = None\n",
    "\n",
    "# TODO: Verify your result by printing the reverberation time"
   ]
  },
  {
   "cell_type": "markdown",
   "metadata": {},
   "source": [
    "## 3. Equations\n",
    "\n",
    "Equations should be realized with LaTex-Code, either inline as $c = f\\,\\lambda$ or in a new line as\n",
    "\n",
    "\\begin{align}\n",
    "    c = f \\; \\lambda\n",
    "\\end{align}\n",
    "\n",
    "Note that labeling and referencing of equations is not supported by notebooks. If necessary reference equations manually."
   ]
  },
  {
   "cell_type": "markdown",
   "metadata": {},
   "source": [
    "## 4. Images\n",
    "\n",
    "All images must be embedded in the notebook. This can for example be done using the code and instructions below\n",
    "\n",
    "1. Read the image from disc, encode it as a base64 string, and save the string to a text file"
   ]
  },
  {
   "cell_type": "code",
   "execution_count": null,
   "metadata": {},
   "outputs": [],
   "source": [
    "# %%\n",
    "\"\"\"\n",
    "Encode image to base64 string to include in notebook. Include with\n",
    "\n",
    "\"\"\"\n",
    "import base64\n",
    "\n",
    "with open(\"image.png\", \"rb\") as image_file:\n",
    "    encoded_string = base64.b64encode(image_file.read()).decode('utf-8')\n",
    "\n",
    "with open(\"encoded_image.txt\", \"w\") as text_file:\n",
    "    text_file.write(encoded_string)"
   ]
  },
  {
   "cell_type": "markdown",
   "metadata": {},
   "source": [
    "2. Paste the following line inside a markdown cell at the position where the image should be placed.\n",
    "\n",
    "`<img src=\"data:image/png;base64,BASE64STRING_HERE\" alt=\"alt_text\" width=\"500\">`\n",
    "\n",
    "3. Copy and pase the base64 string into the line above."
   ]
  },
  {
   "cell_type": "markdown",
   "metadata": {},
   "source": [
    "## 5. Automatic Grading"
   ]
  },
  {
   "cell_type": "markdown",
   "metadata": {},
   "source": [
    "# License notice\n",
    "\n",
    "This notebook © **YEAR** by **YOUR NAME HERE** is licensed under [CC BY 4.0](http://creativecommons.org/licenses/by/4.0/?ref=chooser-v1)"
   ]
  },
  {
   "cell_type": "markdown",
   "metadata": {},
   "source": [
    "# Watermark\n",
    "\n",
    "The following watermark might help others to install specific package versions that might be required to run the notebook. Please give at least the versions of Python, IPython, numpy , and scipy, major third party packagers (e.g., pytorch), and all used pyfar packages."
   ]
  },
  {
   "cell_type": "code",
   "execution_count": 1,
   "metadata": {},
   "outputs": [
    {
     "name": "stdout",
     "output_type": "stream",
     "text": [
      "Python implementation: CPython\n",
      "Python version       : 3.11.9\n",
      "IPython version      : 8.27.0\n",
      "\n",
      "numpy: 1.26.4\n",
      "scipy: 1.14.1\n",
      "pyfar: 0.6.9\n",
      "sofar: 1.2.0\n",
      "\n",
      "Compiler    : Clang 14.0.6 \n",
      "OS          : Darwin\n",
      "Release     : 23.6.0\n",
      "Machine     : arm64\n",
      "Processor   : arm\n",
      "CPU cores   : 8\n",
      "Architecture: 64bit\n",
      "\n"
     ]
    }
   ],
   "source": [
    "%load_ext watermark\n",
    "%watermark -v -m -p numpy,scipy,pyfar,sofar"
   ]
  }
 ],
 "metadata": {
  "kernelspec": {
   "display_name": "gallery",
   "language": "python",
   "name": "python3"
  },
  "language_info": {
   "codemirror_mode": {
    "name": "ipython",
    "version": 3
   },
   "file_extension": ".py",
   "mimetype": "text/x-python",
   "name": "python",
   "nbconvert_exporter": "python",
   "pygments_lexer": "ipython3",
   "version": "3.11.9"
  }
 },
 "nbformat": 4,
 "nbformat_minor": 2
}
